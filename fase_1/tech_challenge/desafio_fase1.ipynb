{
 "cells": [
  {
   "cell_type": "markdown",
   "metadata": {},
   "source": [
    "# Desafio Tech Challenge \n",
    "\n",
    "Marcio Bellini\n",
    "marcio.bellini@gmail.com\n",
    "\n",
    "Israel de Amorim Silva\n",
    "raelamorim@hotmail.com\n",
    "\n",
    "Ernesto de Oliveira\n",
    "ernestodeoliveira@gmail.com\n",
    "\n",
    "CARLOS MURILO SILVA\n",
    "carlosmurilo@outlook.com"
   ]
  },
  {
   "cell_type": "code",
   "execution_count": 1,
   "metadata": {},
   "outputs": [
    {
     "data": {
      "text/plain": [
       "2"
      ]
     },
     "execution_count": 1,
     "metadata": {},
     "output_type": "execute_result"
    }
   ],
   "source": [
    "# Importando as bibliotecas necessárias\n",
    "minha_variavel = 1 + 1\n",
    "minha_variavel\n"
   ]
  }
 ],
 "metadata": {
  "kernelspec": {
   "display_name": "Python 3",
   "language": "python",
   "name": "python3"
  },
  "language_info": {
   "codemirror_mode": {
    "name": "ipython",
    "version": 3
   },
   "file_extension": ".py",
   "mimetype": "text/x-python",
   "name": "python",
   "nbconvert_exporter": "python",
   "pygments_lexer": "ipython3",
   "version": "3.13.0"
  }
 },
 "nbformat": 4,
 "nbformat_minor": 2
}
