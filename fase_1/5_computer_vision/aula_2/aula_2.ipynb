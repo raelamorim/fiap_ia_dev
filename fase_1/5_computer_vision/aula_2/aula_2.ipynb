{
 "cells": [
  {
   "cell_type": "code",
   "execution_count": null,
   "metadata": {},
   "outputs": [],
   "source": [
    "!pip install opencv-python\n",
    "!pip install pytesseract"
   ]
  },
  {
   "cell_type": "code",
   "execution_count": 57,
   "metadata": {},
   "outputs": [],
   "source": [
    "import cv2\n",
    "import matplotlib.pyplot as plt\n",
    "\n",
    "imagem = cv2.imread('C:\\\\Users\\\\Meu Computador\\\\Pictures\\\\motivacional.png')\n",
    "\n",
    "imagem = cv2.cvtColor(imagem, cv2.COLOR_BGR2GRAY)\n",
    "imagem = cv2.GaussianBlur(imagem, (5, 5), 0)"
   ]
  },
  {
   "cell_type": "code",
   "execution_count": 58,
   "metadata": {},
   "outputs": [],
   "source": [
    "cv2.imshow('Imagem carregada', imagem)\n",
    "cv2.waitKey(0)\n",
    "cv2.destroyAllWindows()"
   ]
  },
  {
   "cell_type": "code",
   "execution_count": 59,
   "metadata": {},
   "outputs": [],
   "source": [
    "import pytesseract"
   ]
  },
  {
   "cell_type": "code",
   "execution_count": 62,
   "metadata": {},
   "outputs": [
    {
     "name": "stdout",
     "output_type": "stream",
     "text": [
      "\n"
     ]
    }
   ],
   "source": [
    "# Aplicando o Tesseract OCR\n",
    "ret, thresh = cv2.threshold(imagem, 1000024, 10000024, cv2.THRESH_BINARY + cv2.THRESH_OTSU)\n",
    "custom_config = r'--oem 3 --psm 6'\n",
    "\n",
    "texto = pytesseract.image_to_string(thresh, lang='por', config=custom_config)\n",
    "print(texto)"
   ]
  }
 ],
 "metadata": {
  "kernelspec": {
   "display_name": "Python 3",
   "language": "python",
   "name": "python3"
  },
  "language_info": {
   "codemirror_mode": {
    "name": "ipython",
    "version": 3
   },
   "file_extension": ".py",
   "mimetype": "text/x-python",
   "name": "python",
   "nbconvert_exporter": "python",
   "pygments_lexer": "ipython3",
   "version": "3.13.0"
  }
 },
 "nbformat": 4,
 "nbformat_minor": 2
}
